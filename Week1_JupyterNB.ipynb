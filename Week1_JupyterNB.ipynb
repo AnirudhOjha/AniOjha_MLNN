{
 "cells": [
  {
   "cell_type": "markdown",
   "id": "1f32734e",
   "metadata": {},
   "source": [
    "# Anirudh Ojha, M01 Python"
   ]
  },
  {
   "cell_type": "code",
   "execution_count": 1,
   "id": "9029603c",
   "metadata": {
    "scrolled": true
   },
   "outputs": [
    {
     "name": "stdout",
     "output_type": "stream",
     "text": [
      "Hello World\n"
     ]
    }
   ],
   "source": [
    "print(\"Hello World\")"
   ]
  },
  {
   "cell_type": "code",
   "execution_count": 2,
   "id": "b45c9eef",
   "metadata": {},
   "outputs": [
    {
     "name": "stdout",
     "output_type": "stream",
     "text": [
      "first ipython notebook\n"
     ]
    }
   ],
   "source": [
    "print(\"first ipython notebook\")"
   ]
  },
  {
   "cell_type": "code",
   "execution_count": 3,
   "id": "1020392e",
   "metadata": {},
   "outputs": [
    {
     "name": "stdout",
     "output_type": "stream",
     "text": [
      "mlnn\n"
     ]
    }
   ],
   "source": [
    "print(\"mlnn\")"
   ]
  },
  {
   "cell_type": "markdown",
   "id": "eee3dd2b",
   "metadata": {},
   "source": [
    "Variables"
   ]
  },
  {
   "cell_type": "code",
   "execution_count": 4,
   "id": "b5fab565",
   "metadata": {},
   "outputs": [
    {
     "data": {
      "text/plain": [
       "10000"
      ]
     },
     "execution_count": 4,
     "metadata": {},
     "output_type": "execute_result"
    }
   ],
   "source": [
    "a = 9999\n",
    "b = 1\n",
    "a+b"
   ]
  },
  {
   "cell_type": "code",
   "execution_count": 5,
   "id": "2ba64b40",
   "metadata": {},
   "outputs": [
    {
     "data": {
      "text/plain": [
       "3.142857142857143"
      ]
     },
     "execution_count": 5,
     "metadata": {},
     "output_type": "execute_result"
    }
   ],
   "source": [
    "pi = 22/7\n",
    "pi"
   ]
  },
  {
   "cell_type": "markdown",
   "id": "0a079afb",
   "metadata": {},
   "source": [
    "Import packages"
   ]
  },
  {
   "cell_type": "code",
   "execution_count": 6,
   "id": "e68ca6d4",
   "metadata": {},
   "outputs": [],
   "source": [
    "import numpy\n",
    "import pandas"
   ]
  },
  {
   "cell_type": "code",
   "execution_count": 7,
   "id": "a1191b7e",
   "metadata": {},
   "outputs": [],
   "source": [
    "my_tuple = (1,2,3,4,5)\n",
    "my_list = [1,2,3,4,5]\n",
    "my_dict = {'new york':1, 'tokyo':2, 'mumbai':3}"
   ]
  },
  {
   "cell_type": "code",
   "execution_count": 8,
   "id": "d37aae86",
   "metadata": {},
   "outputs": [
    {
     "data": {
      "text/plain": [
       "(1, 2, 3, 4, 5)"
      ]
     },
     "execution_count": 8,
     "metadata": {},
     "output_type": "execute_result"
    }
   ],
   "source": [
    "my_tuple"
   ]
  },
  {
   "cell_type": "code",
   "execution_count": 9,
   "id": "5752753a",
   "metadata": {},
   "outputs": [
    {
     "data": {
      "text/plain": [
       "[1, 2, 3, 4, 5]"
      ]
     },
     "execution_count": 9,
     "metadata": {},
     "output_type": "execute_result"
    }
   ],
   "source": [
    "my_list"
   ]
  },
  {
   "cell_type": "code",
   "execution_count": 10,
   "id": "ce1f54d4",
   "metadata": {},
   "outputs": [
    {
     "data": {
      "text/plain": [
       "{'new york': 1, 'tokyo': 2, 'mumbai': 3}"
      ]
     },
     "execution_count": 10,
     "metadata": {},
     "output_type": "execute_result"
    }
   ],
   "source": [
    "my_dict"
   ]
  }
 ],
 "metadata": {
  "kernelspec": {
   "display_name": "Python 3 (ipykernel)",
   "language": "python",
   "name": "python3"
  },
  "language_info": {
   "codemirror_mode": {
    "name": "ipython",
    "version": 3
   },
   "file_extension": ".py",
   "mimetype": "text/x-python",
   "name": "python",
   "nbconvert_exporter": "python",
   "pygments_lexer": "ipython3",
   "version": "3.11.5"
  }
 },
 "nbformat": 4,
 "nbformat_minor": 5
}
